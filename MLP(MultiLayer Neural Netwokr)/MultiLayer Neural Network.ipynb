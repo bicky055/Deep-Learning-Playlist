{
 "cells": [
  {
   "cell_type": "markdown",
   "id": "b969660a-adf5-441a-9099-26e67f1a0611",
   "metadata": {},
   "source": [
    "# 🧠 What is a Multilayered Neural Network?\n",
    "A Multilayered Neural Network (also called Multilayer Perceptron or MLP) is a deep learning model made up of three or more layers of neurons:\n",
    "\n"
   ]
  },
  {
   "cell_type": "markdown",
   "id": "35899679-76aa-4c92-8f22-1af7dfa93a95",
   "metadata": {},
   "source": [
    "## 🔹 Layers in a Multilayer Neural Network:\n",
    "### Layer Type\n",
    "1. Input Layer\t->   Takes the raw input data (e.g., image pixels, numbers)\n",
    "2. Hidden Layer(s) -> \tOne or more layers that learn features using weights and activation functions\n",
    "3. Output Layer ->\tProduces the final prediction (e.g., class label)\n",
    "\n",
    " Each neuron in a layer is connected to every neuron in the next layer — this is called a fully connected (dense) network."
   ]
  },
  {
   "cell_type": "markdown",
   "id": "ca87e7cb-a56a-4075-9fb6-0e1129f2d50d",
   "metadata": {},
   "source": [
    "## 🔄 How It Works:\n",
    "### Forward Propagation:\n",
    "\n",
    "1. Input is passed through each layer.\n",
    "\n",
    "2. Weights and activation functions are applied.\n",
    "\n",
    "3. Final output is predicted.\n",
    "\n",
    "### Backward Propagation:\n",
    "\n",
    "1. Calculate error using loss function.\n",
    "\n",
    "2. Adjust weights using gradient descent to reduce error.\n",
    "\n"
   ]
  },
  {
   "cell_type": "markdown",
   "id": "82cffeb5-41e8-4d5f-85f0-315cb874b9fe",
   "metadata": {},
   "source": [
    "### 📌 Key Components:\n",
    "1. Weights & Biases: Learnable parameters.\n",
    "\n",
    "2. Activation Functions: Add non-linearity (ReLU, sigmoid, tanh).\n",
    "\n",
    "3. Loss Function: Measures how wrong the prediction is.\n",
    "\n",
    "4. Optimizer: Algorithm to update weights (e.g., SGD, Adam)."
   ]
  },
  {
   "cell_type": "markdown",
   "id": "94cc3ac9-344f-4560-a4df-01125d8365d8",
   "metadata": {},
   "source": [
    "## 📷 Real-Life Analogy:\n",
    "1. Imagine a factory:\n",
    "\n",
    "2. Input = raw materials\n",
    "\n",
    "3. Hidden layers = machines processing it\n",
    "\n",
    "4. Output = final product"
   ]
  },
  {
   "cell_type": "markdown",
   "id": "a443cbc8-cbf4-4687-ad5d-4adab706fd12",
   "metadata": {},
   "source": [
    "## ✅ Why Use Multilayer Networks?\n",
    "1. Can learn complex, non-linear patterns.\n",
    "\n",
    "2. Performs better on image, text, audio, and real-world data.\n",
    "\n",
    "3. Basis for more advanced networks like CNNs, RNNs, Transformers.\n",
    "\n"
   ]
  },
  {
   "cell_type": "code",
   "execution_count": null,
   "id": "e13fb311-60aa-4d0c-aaf1-169703002697",
   "metadata": {},
   "outputs": [],
   "source": []
  }
 ],
 "metadata": {
  "kernelspec": {
   "display_name": "Python [conda env:base] *",
   "language": "python",
   "name": "conda-base-py"
  },
  "language_info": {
   "codemirror_mode": {
    "name": "ipython",
    "version": 3
   },
   "file_extension": ".py",
   "mimetype": "text/x-python",
   "name": "python",
   "nbconvert_exporter": "python",
   "pygments_lexer": "ipython3",
   "version": "3.12.7"
  }
 },
 "nbformat": 4,
 "nbformat_minor": 5
}
