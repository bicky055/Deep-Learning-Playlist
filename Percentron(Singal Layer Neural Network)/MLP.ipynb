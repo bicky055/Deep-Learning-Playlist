{
 "cells": [
  {
   "cell_type": "markdown",
   "id": "d2b82a2c-4cb9-4666-8d2d-17d808791696",
   "metadata": {},
   "source": [
    "# 🧠 What is a Perceptron?\n",
    "A Perceptron is the simplest type of artificial neural network, invented by Frank Rosenblatt in 1958.\n",
    "It’s used to classify input data into two classes — like 0 or 1, yes or no, spam or not spam."
   ]
  },
  {
   "cell_type": "markdown",
   "id": "5802aad9-32b8-4a77-929f-11ce29c0f019",
   "metadata": {},
   "source": [
    "## 🔍 How It Works (Single Layer Perceptron):\n",
    "1. A perceptron takes:\n",
    "\n",
    "2. Inputs (features like x₁, x₂, …),\n",
    "\n",
    "3. Weights (w₁, w₂, …),\n",
    "\n",
    "4. A bias term,\n",
    "\n",
    "Applies a weighted sum → passes it through an activation function (like step or sigmoid) to produce the output."
   ]
  },
  {
   "cell_type": "markdown",
   "id": "251585b6-bab7-4c0f-8ef1-f2ea27bca00d",
   "metadata": {},
   "source": [
    "## Formula:\n",
    "\n",
    "Output(Z) = Activation( w₁x₁ + w₂x₂ + ... + b )"
   ]
  },
  {
   "cell_type": "markdown",
   "id": "659f0ce9-a6e7-4ae4-927d-822cc7c985dd",
   "metadata": {},
   "source": [
    "## ✅ Limitations of Single-Layer Perceptron:\n",
    "1. Can only solve linearly separable problems (e.g., NOT can’t be solved).\n",
    "\n",
    "2. That’s why we use Multi-Layer Perceptrons (MLP) in deep learning."
   ]
  },
  {
   "cell_type": "code",
   "execution_count": null,
   "id": "f809c299-894d-4baa-aa42-608d038d7149",
   "metadata": {},
   "outputs": [],
   "source": []
  }
 ],
 "metadata": {
  "kernelspec": {
   "display_name": "Python [conda env:base] *",
   "language": "python",
   "name": "conda-base-py"
  },
  "language_info": {
   "codemirror_mode": {
    "name": "ipython",
    "version": 3
   },
   "file_extension": ".py",
   "mimetype": "text/x-python",
   "name": "python",
   "nbconvert_exporter": "python",
   "pygments_lexer": "ipython3",
   "version": "3.12.7"
  }
 },
 "nbformat": 4,
 "nbformat_minor": 5
}
